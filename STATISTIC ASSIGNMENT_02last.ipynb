{
 "cells": [
  {
   "cell_type": "markdown",
   "id": "0e550ccb",
   "metadata": {},
   "source": [
    "Q1. What are the three measures of central tendency?"
   ]
  },
  {
   "cell_type": "raw",
   "id": "d869317c",
   "metadata": {},
   "source": [
    "mean,median,mode"
   ]
  },
  {
   "cell_type": "markdown",
   "id": "907a8f3b",
   "metadata": {},
   "source": [
    "Q2. What is the difference between the mean, median, and mode? How are they used to measure the\n",
    "central tendency of a dataset?"
   ]
  },
  {
   "cell_type": "raw",
   "id": "ca58dd9e",
   "metadata": {},
   "source": [
    "Ans2-Difference\n",
    "    1-Mean is used to find average of the value.\n",
    "    2-Median is used to find the centarl value of a number and also used to find outlyer.\n",
    "    3-Mode is used to find the frequency \n",
    "    \n",
    "    by using these 3  se can find central tendecy"
   ]
  },
  {
   "cell_type": "markdown",
   "id": "87803888",
   "metadata": {},
   "source": [
    "Q3. Measure the three measures of central tendency for the given height data:\n",
    "\n",
    " [178,177,176,177,178.2,178,175,179,180,175,178.9,176.2,177,172.5,178,176.5]"
   ]
  },
  {
   "cell_type": "code",
   "execution_count": 6,
   "id": "c108ca8c",
   "metadata": {},
   "outputs": [
    {
     "data": {
      "text/html": [
       "<div>\n",
       "<style scoped>\n",
       "    .dataframe tbody tr th:only-of-type {\n",
       "        vertical-align: middle;\n",
       "    }\n",
       "\n",
       "    .dataframe tbody tr th {\n",
       "        vertical-align: top;\n",
       "    }\n",
       "\n",
       "    .dataframe thead th {\n",
       "        text-align: right;\n",
       "    }\n",
       "</style>\n",
       "<table border=\"1\" class=\"dataframe\">\n",
       "  <thead>\n",
       "    <tr style=\"text-align: right;\">\n",
       "      <th></th>\n",
       "      <th>0</th>\n",
       "    </tr>\n",
       "  </thead>\n",
       "  <tbody>\n",
       "    <tr>\n",
       "      <th>0</th>\n",
       "      <td>178.0</td>\n",
       "    </tr>\n",
       "    <tr>\n",
       "      <th>1</th>\n",
       "      <td>177.0</td>\n",
       "    </tr>\n",
       "    <tr>\n",
       "      <th>2</th>\n",
       "      <td>176.0</td>\n",
       "    </tr>\n",
       "    <tr>\n",
       "      <th>3</th>\n",
       "      <td>177.0</td>\n",
       "    </tr>\n",
       "    <tr>\n",
       "      <th>4</th>\n",
       "      <td>178.2</td>\n",
       "    </tr>\n",
       "    <tr>\n",
       "      <th>5</th>\n",
       "      <td>178.0</td>\n",
       "    </tr>\n",
       "    <tr>\n",
       "      <th>6</th>\n",
       "      <td>175.0</td>\n",
       "    </tr>\n",
       "    <tr>\n",
       "      <th>7</th>\n",
       "      <td>179.0</td>\n",
       "    </tr>\n",
       "    <tr>\n",
       "      <th>8</th>\n",
       "      <td>180.0</td>\n",
       "    </tr>\n",
       "    <tr>\n",
       "      <th>9</th>\n",
       "      <td>175.0</td>\n",
       "    </tr>\n",
       "    <tr>\n",
       "      <th>10</th>\n",
       "      <td>178.9</td>\n",
       "    </tr>\n",
       "    <tr>\n",
       "      <th>11</th>\n",
       "      <td>176.2</td>\n",
       "    </tr>\n",
       "    <tr>\n",
       "      <th>12</th>\n",
       "      <td>177.0</td>\n",
       "    </tr>\n",
       "    <tr>\n",
       "      <th>13</th>\n",
       "      <td>172.5</td>\n",
       "    </tr>\n",
       "    <tr>\n",
       "      <th>14</th>\n",
       "      <td>178.0</td>\n",
       "    </tr>\n",
       "    <tr>\n",
       "      <th>15</th>\n",
       "      <td>176.5</td>\n",
       "    </tr>\n",
       "  </tbody>\n",
       "</table>\n",
       "</div>"
      ],
      "text/plain": [
       "        0\n",
       "0   178.0\n",
       "1   177.0\n",
       "2   176.0\n",
       "3   177.0\n",
       "4   178.2\n",
       "5   178.0\n",
       "6   175.0\n",
       "7   179.0\n",
       "8   180.0\n",
       "9   175.0\n",
       "10  178.9\n",
       "11  176.2\n",
       "12  177.0\n",
       "13  172.5\n",
       "14  178.0\n",
       "15  176.5"
      ]
     },
     "execution_count": 6,
     "metadata": {},
     "output_type": "execute_result"
    }
   ],
   "source": [
    "df=[178,177,176,177,178.2,178,175,179,180,175,178.9,176.2,177,172.5,178,176.5]\n",
    "import pandas as pd\n",
    "import numpy as np\n",
    "df=pd.DataFrame(df)\n",
    "df"
   ]
  },
  {
   "cell_type": "code",
   "execution_count": 7,
   "id": "4168fe7a",
   "metadata": {},
   "outputs": [
    {
     "data": {
      "text/plain": [
       "0    177.01875\n",
       "dtype: float64"
      ]
     },
     "execution_count": 7,
     "metadata": {},
     "output_type": "execute_result"
    }
   ],
   "source": [
    "df.mean()"
   ]
  },
  {
   "cell_type": "code",
   "execution_count": 8,
   "id": "e718fb08",
   "metadata": {},
   "outputs": [
    {
     "data": {
      "text/plain": [
       "0    177.0\n",
       "dtype: float64"
      ]
     },
     "execution_count": 8,
     "metadata": {},
     "output_type": "execute_result"
    }
   ],
   "source": [
    "df.median()"
   ]
  },
  {
   "cell_type": "code",
   "execution_count": 9,
   "id": "9a0d05e0",
   "metadata": {},
   "outputs": [],
   "source": [
    "from scipy import stats"
   ]
  },
  {
   "cell_type": "code",
   "execution_count": 10,
   "id": "ca65a6b5",
   "metadata": {},
   "outputs": [
    {
     "data": {
      "text/html": [
       "<div>\n",
       "<style scoped>\n",
       "    .dataframe tbody tr th:only-of-type {\n",
       "        vertical-align: middle;\n",
       "    }\n",
       "\n",
       "    .dataframe tbody tr th {\n",
       "        vertical-align: top;\n",
       "    }\n",
       "\n",
       "    .dataframe thead th {\n",
       "        text-align: right;\n",
       "    }\n",
       "</style>\n",
       "<table border=\"1\" class=\"dataframe\">\n",
       "  <thead>\n",
       "    <tr style=\"text-align: right;\">\n",
       "      <th></th>\n",
       "      <th>0</th>\n",
       "    </tr>\n",
       "  </thead>\n",
       "  <tbody>\n",
       "    <tr>\n",
       "      <th>0</th>\n",
       "      <td>177.0</td>\n",
       "    </tr>\n",
       "    <tr>\n",
       "      <th>1</th>\n",
       "      <td>178.0</td>\n",
       "    </tr>\n",
       "  </tbody>\n",
       "</table>\n",
       "</div>"
      ],
      "text/plain": [
       "       0\n",
       "0  177.0\n",
       "1  178.0"
      ]
     },
     "execution_count": 10,
     "metadata": {},
     "output_type": "execute_result"
    }
   ],
   "source": [
    "df.mode()"
   ]
  },
  {
   "cell_type": "markdown",
   "id": "175919a4",
   "metadata": {},
   "source": [
    "Q4. Find the standard deviation for the given data:\n",
    "\n",
    "[178,177,176,177,178.2,178,175,179,180,175,178.9,176.2,177,172.5,178,176.5]"
   ]
  },
  {
   "cell_type": "code",
   "execution_count": 11,
   "id": "eab6bb39",
   "metadata": {},
   "outputs": [
    {
     "data": {
      "text/html": [
       "<div>\n",
       "<style scoped>\n",
       "    .dataframe tbody tr th:only-of-type {\n",
       "        vertical-align: middle;\n",
       "    }\n",
       "\n",
       "    .dataframe tbody tr th {\n",
       "        vertical-align: top;\n",
       "    }\n",
       "\n",
       "    .dataframe thead th {\n",
       "        text-align: right;\n",
       "    }\n",
       "</style>\n",
       "<table border=\"1\" class=\"dataframe\">\n",
       "  <thead>\n",
       "    <tr style=\"text-align: right;\">\n",
       "      <th></th>\n",
       "      <th>0</th>\n",
       "    </tr>\n",
       "  </thead>\n",
       "  <tbody>\n",
       "    <tr>\n",
       "      <th>0</th>\n",
       "      <td>178.0</td>\n",
       "    </tr>\n",
       "    <tr>\n",
       "      <th>1</th>\n",
       "      <td>177.0</td>\n",
       "    </tr>\n",
       "    <tr>\n",
       "      <th>2</th>\n",
       "      <td>176.0</td>\n",
       "    </tr>\n",
       "    <tr>\n",
       "      <th>3</th>\n",
       "      <td>177.0</td>\n",
       "    </tr>\n",
       "    <tr>\n",
       "      <th>4</th>\n",
       "      <td>178.2</td>\n",
       "    </tr>\n",
       "    <tr>\n",
       "      <th>5</th>\n",
       "      <td>178.0</td>\n",
       "    </tr>\n",
       "    <tr>\n",
       "      <th>6</th>\n",
       "      <td>175.0</td>\n",
       "    </tr>\n",
       "    <tr>\n",
       "      <th>7</th>\n",
       "      <td>179.0</td>\n",
       "    </tr>\n",
       "    <tr>\n",
       "      <th>8</th>\n",
       "      <td>180.0</td>\n",
       "    </tr>\n",
       "    <tr>\n",
       "      <th>9</th>\n",
       "      <td>175.0</td>\n",
       "    </tr>\n",
       "    <tr>\n",
       "      <th>10</th>\n",
       "      <td>178.9</td>\n",
       "    </tr>\n",
       "    <tr>\n",
       "      <th>11</th>\n",
       "      <td>176.2</td>\n",
       "    </tr>\n",
       "    <tr>\n",
       "      <th>12</th>\n",
       "      <td>177.0</td>\n",
       "    </tr>\n",
       "    <tr>\n",
       "      <th>13</th>\n",
       "      <td>172.5</td>\n",
       "    </tr>\n",
       "    <tr>\n",
       "      <th>14</th>\n",
       "      <td>178.0</td>\n",
       "    </tr>\n",
       "    <tr>\n",
       "      <th>15</th>\n",
       "      <td>176.5</td>\n",
       "    </tr>\n",
       "  </tbody>\n",
       "</table>\n",
       "</div>"
      ],
      "text/plain": [
       "        0\n",
       "0   178.0\n",
       "1   177.0\n",
       "2   176.0\n",
       "3   177.0\n",
       "4   178.2\n",
       "5   178.0\n",
       "6   175.0\n",
       "7   179.0\n",
       "8   180.0\n",
       "9   175.0\n",
       "10  178.9\n",
       "11  176.2\n",
       "12  177.0\n",
       "13  172.5\n",
       "14  178.0\n",
       "15  176.5"
      ]
     },
     "execution_count": 11,
     "metadata": {},
     "output_type": "execute_result"
    }
   ],
   "source": [
    "df1=[178,177,176,177,178.2,178,175,179,180,175,178.9,176.2,177,172.5,178,176.5]\n",
    "df1=pd.DataFrame(df1)\n",
    "df1\n"
   ]
  },
  {
   "cell_type": "code",
   "execution_count": 13,
   "id": "b6a1a1b1",
   "metadata": {},
   "outputs": [
    {
     "data": {
      "text/plain": [
       "0    1.847239\n",
       "dtype: float64"
      ]
     },
     "execution_count": 13,
     "metadata": {},
     "output_type": "execute_result"
    }
   ],
   "source": [
    "df1.std()"
   ]
  },
  {
   "cell_type": "markdown",
   "id": "251ed02a",
   "metadata": {},
   "source": [
    "Q5. How are measures of dispersion such as range, variance, and standard deviation used to describe\n",
    "the spread of a dataset? Provide an example."
   ]
  },
  {
   "cell_type": "raw",
   "id": "c0edf1d7",
   "metadata": {},
   "source": [
    "ANS5-Measures of dispersion such as range, variance, and standard deviation are used to quantify the spread or variability of data points within a dataset. Here's how each of these measures works and an example illustrating their use:\n",
    "\n",
    "Range: The range is the simplest measure of dispersion and represents the difference between the largest and the smallest values in a dataset. It provides a rough estimate of the spread of the data.\n",
    "\n",
    "Example: Consider the following dataset representing the daily temperatures (in degrees Celsius) for a week: {20, 22, 19, 25, 18, 23, 21}. To calculate the range, we subtract the smallest value (18) from the largest value (25):\n",
    "\n",
    "Range = 25 - 18 = 7\n",
    "\n",
    "So, the range of the temperatures for the week is 7 degrees Celsius.\n",
    "\n",
    "Variance: Variance measures the average squared deviation of each data point from the mean of the dataset. A higher variance indicates greater variability in the data.\n",
    "\n",
    "Example: Continuing with the temperature dataset, let's calculate the variance. First, we find the mean temperature:\n",
    "\n",
    "Mean = (20 + 22 + 19 + 25 + 18 + 23 + 21) / 7 = 21\n",
    "\n",
    "Then, we calculate the squared differences of each temperature from the mean, sum them up, and divide by the number of data points:\n",
    "\n",
    "Variance = [(20-21)^2 + (22-21)^2 + (19-21)^2 + (25-21)^2 + (18-21)^2 + (23-21)^2 + (21-21)^2] / 7\n",
    "= [(1)^2 + (1)^2 + (-2)^2 + (4)^2 + (-3)^2 + (2)^2 + (0)^2] / 7\n",
    "= (1 + 1 + 4 + 16 + 9 + 4 + 0) / 7\n",
    "= 35 / 7\n",
    "= 5\n",
    "\n",
    "So, the variance of the temperatures for the week is 5 square degrees Celsius.\n",
    "\n",
    "Standard Deviation: The standard deviation is the square root of the variance and provides a measure of the average distance of data points from the mean. It is widely used due to its intuitive interpretation and its unit being the same as the original data.\n",
    "\n",
    "Example: With the variance calculated as 5 square degrees Celsius, we can find the standard deviation by taking the square root of the variance:\n",
    "\n",
    "Standard Deviation = √5 ≈ 2.24"
   ]
  },
  {
   "cell_type": "markdown",
   "id": "dd09fb14",
   "metadata": {},
   "source": [
    "Q6. What is a Venn diagram?"
   ]
  },
  {
   "cell_type": "raw",
   "id": "f50f4842",
   "metadata": {},
   "source": [
    "Ans-6\n",
    "A Venn diagram is a graphical representation of the relationships between different sets of data"
   ]
  },
  {
   "cell_type": "markdown",
   "id": "8f084098",
   "metadata": {},
   "source": [
    "Q7. For the two given sets A = (2,3,4,5,6,7) & B = (0,2,6,8,10). Find:\n",
    "\n",
    "(i) A∪B\n",
    "\n",
    "(ii)A ∩ B"
   ]
  },
  {
   "cell_type": "raw",
   "id": "74b6eab5",
   "metadata": {},
   "source": [
    "Ans7-\n",
    "1-(0,2,3,4,5,6,7,8,10)\n",
    "2-(2,6)"
   ]
  },
  {
   "cell_type": "markdown",
   "id": "1efda8ac",
   "metadata": {},
   "source": [
    "Q8. What do you understand about skewness in data?"
   ]
  },
  {
   "cell_type": "raw",
   "id": "421b2eb3",
   "metadata": {},
   "source": [
    "Ans8-It describes the extent to which the values in a dataset deviate from a symmetrical distribution . In other word how much\n",
    "it spread."
   ]
  },
  {
   "cell_type": "markdown",
   "id": "ab20fcae",
   "metadata": {},
   "source": [
    "Q9. If a data is right skewed then what will be the position of median with respect to mean?"
   ]
  },
  {
   "cell_type": "raw",
   "id": "1e959a4e",
   "metadata": {},
   "source": [
    "Ans9- Median is less than mean (mean>median)"
   ]
  },
  {
   "cell_type": "markdown",
   "id": "d1eb670b",
   "metadata": {},
   "source": [
    "Q10. Explain the difference between covariance and correlation. How are these measures used in\n",
    "statistical analysis?"
   ]
  },
  {
   "cell_type": "raw",
   "id": "c507c5b2",
   "metadata": {},
   "source": [
    "Ans10-\n",
    "Covariance:\n",
    "\n",
    "Covariance measures the extent to which two variables change together.\n",
    "It indicates the direction of the linear relationship between variables (positive or negative) but does not provide information\n",
    "about the strength of the relationship.\n",
    "Covariance can take on any value, positive, negative, or zero. A positive covariance indicates that the variables tend to move\n",
    "in the same direction, while a negative covariance indicates that they move in opposite directions.\n",
    "\n",
    "Correlation:\n",
    "\n",
    "Correlation is a standardized measure of the linear relationship between two variables.\n",
    "It ranges from -1 to 1, where:\n",
    "A correlation of 1 indicates a perfect positive linear relationship.\n",
    "A correlation of -1 indicates a perfect negative linear relationship.\n",
    "A correlation of 0 indicates no linear relationship between the variables."
   ]
  },
  {
   "cell_type": "markdown",
   "id": "7a21ba0d",
   "metadata": {},
   "source": [
    "Q11. What is the formula for calculating the sample mean? Provide an example calculation for a\n",
    "dataset."
   ]
  },
  {
   "cell_type": "raw",
   "id": "06033699",
   "metadata": {},
   "source": [
    "Ans11-sample mean(x̄)=sum of term/number of term\n",
    "data=1,2,3,4\n",
    "sample mean(x̄)=sum of term/number of term\n",
    "              =1+2+3+4/4\n",
    "              =2.5 Ans\n"
   ]
  },
  {
   "cell_type": "markdown",
   "id": "3adc0be4",
   "metadata": {},
   "source": [
    "Q12. For a normal distribution data what is the relationship between its measure of central tendency?"
   ]
  },
  {
   "cell_type": "raw",
   "id": "b2f523d2",
   "metadata": {},
   "source": [
    "Ans- symmetric"
   ]
  },
  {
   "cell_type": "markdown",
   "id": "392ec218",
   "metadata": {},
   "source": [
    "Q13. How is covariance different from correlation?"
   ]
  },
  {
   "cell_type": "raw",
   "id": "cb50438f",
   "metadata": {},
   "source": [
    "Covariance:\n",
    "\n",
    "Covariance measures the extent to which two variables change together.\n",
    "It indicates the direction of the linear relationship between variables (positive or negative) but does not provide information\n",
    "about the strength of the relationship.\n",
    "Covariance can take on any value, positive, negative, or zero. A positive covariance indicates that the variables tend to move\n",
    "in the same direction, while a negative covariance indicates that they move in opposite directions.\n",
    "\n",
    "Correlation:\n",
    "\n",
    "Correlation is a standardized measure of the linear relationship between two variables.\n",
    "It ranges from -1 to 1, where:\n",
    "A correlation of 1 indicates a perfect positive linear relationship.\n",
    "A correlation of -1 indicates a perfect negative linear relationship.\n",
    "A correlation of 0 indicates no linear relationship between the variables."
   ]
  },
  {
   "cell_type": "markdown",
   "id": "1c24bef2",
   "metadata": {},
   "source": [
    "Q14. How do outliers affect measures of central tendency and dispersion? Provide an example."
   ]
  },
  {
   "cell_type": "raw",
   "id": "e5aa2a34",
   "metadata": {},
   "source": [
    "Measures of Central Tendency:\n",
    "\n",
    "Mean: Outliers can strongly influence the mean since it's calculated by summing all values and dividing by the total number \n",
    "of observations. If there are extreme values (either very large or very small) in the dataset, the mean will be pulled towards\n",
    "these outliers, potentially giving a skewed representation of the central tendency.\n",
    "\n",
    "Median: The median is less affected by outliers because it's simply the middle value when the data is ordered.\n",
    "Outliers don't influence the position of the median as long as they are not among the central values. However, \n",
    "if the outliers are extreme, they can still shift the median slightly.\n",
    "    \n",
    "Mode: Outliers usually have no effect on the mode since it represents the most frequently occurring value in the dataset.\n",
    "Outliers that are significantly distant from the rest of the data are unlikely to affect the mode.\n",
    "Measures of Dispersion:\n",
    "\n",
    "Range: Outliers can greatly affect the range since it's determined by the difference between the maximum and minimum values in\n",
    "the dataset. Even a single outlier can substantially increase the range, especially if it's an extreme value.\n",
    "Variance and Standard Deviation: Outliers can have a significant impact on variance and standard deviation because these\n",
    "measures involve the squared deviations from the mean. Outliers with large deviations from the mean can inflate the variance and,\n",
    "consequently, the standard deviation, leading to an overestimation of the spread of the data.\n",
    "\n",
    "Example:\n",
    "Consider a dataset representing the incomes of employees in a company:\n",
    "\n",
    "{30,000,35,000,40,000,45,000,50,000,200,000}\n",
    "\n",
    "\n",
    "In this dataset, the majority of the incomes range between 30,000 and 50,000. However, there is one outlier of 200,000. \n",
    "Let's see how outliers affect measures of central tendency and dispersion:\n",
    "\n",
    "Mean: Adding the outlier significantly increases the mean income, making it less representative of the typical employee's income.\n",
    "Median: The median remains unaffected since it's not influenced by extreme values. It stays between 40,000 and 45,000.\n",
    "Mode: The mode remains the same because it's not affected by outliers.\n",
    "Range: The range increases dramatically from 20,000 to 170,000 due to the outlier.\n",
    "Variance and Standard Deviation: The outlier increases the variance and standard deviation, indicating higher variability in incomes \n",
    "than actually present among the majority of employees."
   ]
  },
  {
   "cell_type": "code",
   "execution_count": null,
   "id": "0fdb52f3",
   "metadata": {},
   "outputs": [],
   "source": []
  }
 ],
 "metadata": {
  "kernelspec": {
   "display_name": "Python 3 (ipykernel)",
   "language": "python",
   "name": "python3"
  },
  "language_info": {
   "codemirror_mode": {
    "name": "ipython",
    "version": 3
   },
   "file_extension": ".py",
   "mimetype": "text/x-python",
   "name": "python",
   "nbconvert_exporter": "python",
   "pygments_lexer": "ipython3",
   "version": "3.9.12"
  }
 },
 "nbformat": 4,
 "nbformat_minor": 5
}
